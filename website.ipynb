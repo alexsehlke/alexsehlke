{
 "cells": [
  {
   "cell_type": "raw",
   "id": "dbcded27-a4a4-4f24-b029-185d01991606",
   "metadata": {},
   "source": [
    "---\n",
    "layout: \"Test\"\n",
    "title: \"Website Test\"\n",
    "author: \"Alex Sehlke\"\n",
    "toc: true\n",
    "number-sections: true\n",
    "highlight-style: pygments\n",
    "format:\n",
    "  html: \n",
    "    code-fold: true\n",
    "    html-math-method: katex\n",
    "  pdf:\n",
    "    geometry: \n",
    "      - top=30mm\n",
    "      - left=30mm\n",
    "  docx: default\n",
    "---\n"
   ]
  },
  {
   "cell_type": "markdown",
   "id": "79822fd2-5e8e-4776-bd6b-d291b5e6ebe9",
   "metadata": {},
   "source": [
    "# Introduction\n",
    "## Research Focu"
   ]
  },
  {
   "cell_type": "code",
   "execution_count": null,
   "id": "c561e6cd-81fa-4565-a627-f10051f63c15",
   "metadata": {},
   "outputs": [],
   "source": []
  }
 ],
 "metadata": {
  "kernelspec": {
   "display_name": "Python 3 (ipykernel)",
   "language": "python",
   "name": "python3"
  },
  "language_info": {
   "codemirror_mode": {
    "name": "ipython",
    "version": 3
   },
   "file_extension": ".py",
   "mimetype": "text/x-python",
   "name": "python",
   "nbconvert_exporter": "python",
   "pygments_lexer": "ipython3",
   "version": "3.11.5"
  }
 },
 "nbformat": 4,
 "nbformat_minor": 5
}
